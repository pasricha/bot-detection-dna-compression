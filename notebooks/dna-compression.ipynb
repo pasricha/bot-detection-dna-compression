{
 "cells": [
  {
   "cell_type": "markdown",
   "metadata": {},
   "source": [
    "### Bot Detection using Digital DNA Compression"
   ]
  },
  {
   "cell_type": "code",
   "execution_count": 1,
   "metadata": {},
   "outputs": [],
   "source": [
    "import warnings\n",
    "warnings.filterwarnings('ignore')"
   ]
  },
  {
   "cell_type": "code",
   "execution_count": 2,
   "metadata": {},
   "outputs": [],
   "source": [
    "import pandas as pd\n",
    "import numpy as np\n",
    "import matplotlib.pyplot as plt\n",
    "import matplotlib.ticker as ticker\n",
    "import seaborn as sns"
   ]
  },
  {
   "cell_type": "code",
   "execution_count": 3,
   "metadata": {},
   "outputs": [],
   "source": [
    "import random\n",
    "import sys\n",
    "import time\n",
    "import zlib"
   ]
  },
  {
   "cell_type": "code",
   "execution_count": 4,
   "metadata": {},
   "outputs": [],
   "source": [
    "from sklearn import utils\n",
    "from sklearn.linear_model import LogisticRegression\n",
    "from sklearn.model_selection import train_test_split\n",
    "from sklearn.metrics import accuracy_score, precision_score, recall_score, f1_score, matthews_corrcoef, confusion_matrix\n",
    "from scipy.stats import ttest_1samp"
   ]
  },
  {
   "cell_type": "markdown",
   "metadata": {},
   "source": [
    "<hr>"
   ]
  },
  {
   "cell_type": "markdown",
   "metadata": {},
   "source": [
    "### Digital DNA\n",
    "\n",
    "Model account behaviour by defining the following alphabet, of cardinality N = 3,\n",
    "\n",
    "$B^3_{type} = {\\{A, C, T\\}}$\n",
    "\n",
    "A $\\leftarrow$ tweet,\n",
    "\n",
    "C $\\leftarrow$ reply,\n",
    "\n",
    "T $\\leftarrow$ retweet"
   ]
  },
  {
   "cell_type": "markdown",
   "metadata": {},
   "source": [
    "<hr>"
   ]
  },
  {
   "cell_type": "markdown",
   "metadata": {},
   "source": [
    "#### Datasets"
   ]
  },
  {
   "cell_type": "markdown",
   "metadata": {},
   "source": [
    "User profile data."
   ]
  },
  {
   "cell_type": "code",
   "execution_count": 5,
   "metadata": {},
   "outputs": [],
   "source": [
    "### Users\n",
    "\n",
    "# Genuine accounts.\n",
    "gen = pd.read_csv('./datasets_full/datasets_full.csv/genuine_accounts.csv/users.csv')\n",
    "\n",
    "# Social spambots.\n",
    "ss1 = pd.read_csv('./datasets_full/datasets_full.csv/social_spambots_1.csv/users.csv')\n",
    "ss2 = pd.read_csv('./datasets_full/datasets_full.csv/social_spambots_2.csv/users.csv')\n",
    "ss3 = pd.read_csv('./datasets_full/datasets_full.csv/social_spambots_3.csv/users.csv')\n",
    "\n",
    "# Traditional spambots.\n",
    "ts1 = pd.read_csv('./datasets_full/datasets_full.csv/traditional_spambots_1.csv/users.csv')\n",
    "ts2 = pd.read_csv('./datasets_full/datasets_full.csv/traditional_spambots_2.csv/users.csv')\n",
    "ts3 = pd.read_csv('./datasets_full/datasets_full.csv/traditional_spambots_3.csv/users.csv')\n",
    "ts4 = pd.read_csv('./datasets_full/datasets_full.csv/traditional_spambots_4.csv/users.csv')"
   ]
  },
  {
   "cell_type": "markdown",
   "metadata": {},
   "source": [
    "Tweets."
   ]
  },
  {
   "cell_type": "code",
   "execution_count": 6,
   "metadata": {},
   "outputs": [],
   "source": [
    "### Tweets\n",
    "\n",
    "# Genuine accounts.\n",
    "gen_tweets = pd.read_csv('./datasets_full/datasets_full.csv/genuine_accounts.csv/tweets.csv')\n",
    "\n",
    "# Social spambots.\n",
    "ss1_tweets = pd.read_csv('./datasets_full/datasets_full.csv/social_spambots_1.csv/tweets.csv')\n",
    "ss2_tweets = pd.read_csv('./datasets_full/datasets_full.csv/social_spambots_2.csv/tweets.csv')\n",
    "ss3_tweets = pd.read_csv('./datasets_full/datasets_full.csv/social_spambots_3.csv/tweets.csv')\n",
    "\n",
    "# Traditional spambots.\n",
    "ts1_tweets = pd.read_csv('./datasets_full/datasets_full.csv/traditional_spambots_1.csv/tweets.csv')"
   ]
  },
  {
   "cell_type": "markdown",
   "metadata": {},
   "source": [
    "<hr>"
   ]
  },
  {
   "cell_type": "markdown",
   "metadata": {},
   "source": [
    "#### Digital DNA."
   ]
  },
  {
   "cell_type": "code",
   "execution_count": 7,
   "metadata": {},
   "outputs": [],
   "source": [
    "def create_dna_from_tweets(tweets_df):\n",
    "    '''For each user id in tweets_df return a digital DNA string based on posting behaviour.'''\n",
    "    \n",
    "    # Add columns for counts of tweets, replies and retweets.\n",
    "    tweets_df['num_retweets'] = np.where(tweets_df['retweeted_status_id'] == 0, 0, 1)\n",
    "    tweets_df['num_replies'] = np.where(tweets_df['in_reply_to_status_id'] == 0, 0, 1)\n",
    "    tweets_df['num_tweets'] = np.where((tweets_df['num_retweets'] == 0) & (tweets_df['num_replies'] == 0), 1, 0)\n",
    "\n",
    "    # DNA alphabet for tweet (A), retweet (C) and reply (T).\n",
    "    tweets = tweets_df['num_tweets'] == 1\n",
    "    retweets = tweets_df['num_retweets'] == 1\n",
    "    replies = tweets_df['num_replies'] == 1\n",
    "\n",
    "    tweets_df.loc[:, 'DNA'] = np.where(retweets, 'C', np.where(replies, 'T', 'A'))\n",
    "\n",
    "    # Sort tweets by timestamp..\n",
    "    tweets_df = tweets_df[['user_id', 'timestamp', 'DNA']]\n",
    "    tweets_df = tweets_df.sort_values(by=['timestamp'])\n",
    "\n",
    "    # Create digital DNA string for each user account.\n",
    "    dna = tweets_df.groupby(by=['user_id'])['DNA'].agg(lambda x: ''.join(x))\n",
    "    \n",
    "    return dna"
   ]
  },
  {
   "cell_type": "code",
   "execution_count": 8,
   "metadata": {},
   "outputs": [],
   "source": [
    "def compress_dna_df(dna):\n",
    "    '''Return a dataframe with compression facts for a series of dna.'''\n",
    "\n",
    "    # Convert DNA in string object to bytes object.\n",
    "    dna_bytes = dna.apply(lambda s: s.encode('utf-8'))\n",
    "\n",
    "    # Run compression on each DNA string in the sample.\n",
    "    dna_compressed = dna_bytes.apply(lambda b: zlib.compress(b))\n",
    "\n",
    "    # Create dataframe with compression facts.\n",
    "    dna_df = pd.DataFrame({'dna': dna,\n",
    "                           'original_dna_size': dna_bytes.apply(sys.getsizeof), \n",
    "                           'compressed_dna_size': dna_compressed.apply(sys.getsizeof)})\n",
    "    \n",
    "    dna_df['compression_ratio'] = dna_df['original_dna_size'] / dna_df['compressed_dna_size']\n",
    "    \n",
    "    return dna_df"
   ]
  },
  {
   "cell_type": "markdown",
   "metadata": {},
   "source": [
    "<hr>"
   ]
  },
  {
   "cell_type": "markdown",
   "metadata": {},
   "source": [
    "Create DNA strings based on behaviour activity for each account."
   ]
  },
  {
   "cell_type": "code",
   "execution_count": 9,
   "metadata": {},
   "outputs": [],
   "source": [
    "gen_dna = create_dna_from_tweets(gen_tweets)\n",
    "\n",
    "ss1_dna = create_dna_from_tweets(ss1_tweets)\n",
    "ss2_dna = create_dna_from_tweets(ss2_tweets)\n",
    "ss3_dna = create_dna_from_tweets(ss3_tweets)\n",
    "\n",
    "ts1_dna = create_dna_from_tweets(ts1_tweets)"
   ]
  },
  {
   "cell_type": "markdown",
   "metadata": {},
   "source": [
    "Compression on digital DNA strings."
   ]
  },
  {
   "cell_type": "code",
   "execution_count": 10,
   "metadata": {},
   "outputs": [],
   "source": [
    "gen_dna = compress_dna_df(gen_dna)\n",
    "\n",
    "ss1_dna = compress_dna_df(ss1_dna)\n",
    "ss2_dna = compress_dna_df(ss2_dna)\n",
    "ss3_dna = compress_dna_df(ss3_dna)\n",
    "\n",
    "ts1_dna = compress_dna_df(ts1_dna)\n",
    "\n",
    "bot_dna = pd.concat([ss1_dna, ss2_dna, ss3_dna])"
   ]
  },
  {
   "cell_type": "markdown",
   "metadata": {},
   "source": [
    "<hr>"
   ]
  },
  {
   "cell_type": "markdown",
   "metadata": {},
   "source": [
    "#### Visualise compression facts for accounts."
   ]
  },
  {
   "cell_type": "code",
   "execution_count": 11,
   "metadata": {},
   "outputs": [],
   "source": [
    "# Add a column for account type to the dataframes.\n",
    "gen_dna['Account Type'] = 'Genuine'\n",
    "bot_dna['Account Type'] = 'Bot'\n",
    "\n",
    "# Combine all samples into a single dataframe.\n",
    "all_dna = pd.concat([gen_dna, bot_dna])"
   ]
  },
  {
   "cell_type": "code",
   "execution_count": 12,
   "metadata": {},
   "outputs": [
    {
     "data": {
      "text/html": [
       "<div>\n",
       "<style scoped>\n",
       "    .dataframe tbody tr th:only-of-type {\n",
       "        vertical-align: middle;\n",
       "    }\n",
       "\n",
       "    .dataframe tbody tr th {\n",
       "        vertical-align: top;\n",
       "    }\n",
       "\n",
       "    .dataframe thead th {\n",
       "        text-align: right;\n",
       "    }\n",
       "</style>\n",
       "<table border=\"1\" class=\"dataframe\">\n",
       "  <thead>\n",
       "    <tr style=\"text-align: right;\">\n",
       "      <th></th>\n",
       "      <th>dna</th>\n",
       "      <th>original_dna_size</th>\n",
       "      <th>compressed_dna_size</th>\n",
       "      <th>compression_ratio</th>\n",
       "      <th>Account Type</th>\n",
       "    </tr>\n",
       "    <tr>\n",
       "      <th>user_id</th>\n",
       "      <th></th>\n",
       "      <th></th>\n",
       "      <th></th>\n",
       "      <th></th>\n",
       "      <th></th>\n",
       "    </tr>\n",
       "  </thead>\n",
       "  <tbody>\n",
       "    <tr>\n",
       "      <th>2.384583e+09</th>\n",
       "      <td>AAAAATAATAATTAATAATAAAAAAAAAAAATAAAATAATAATTAT...</td>\n",
       "      <td>111</td>\n",
       "      <td>62</td>\n",
       "      <td>1.790323</td>\n",
       "      <td>Bot</td>\n",
       "    </tr>\n",
       "    <tr>\n",
       "      <th>2.361662e+09</th>\n",
       "      <td>AAAAAAAAAAAATAATAATATAATAATTAATAATAATAATAATAAT...</td>\n",
       "      <td>138</td>\n",
       "      <td>62</td>\n",
       "      <td>2.225806</td>\n",
       "      <td>Bot</td>\n",
       "    </tr>\n",
       "    <tr>\n",
       "      <th>1.925486e+07</th>\n",
       "      <td>TAAAAAAAAAAAAATCTATTATCAAAAAAAAAAAAAAAAAAAAAAA...</td>\n",
       "      <td>3256</td>\n",
       "      <td>559</td>\n",
       "      <td>5.824687</td>\n",
       "      <td>Genuine</td>\n",
       "    </tr>\n",
       "    <tr>\n",
       "      <th>2.366354e+09</th>\n",
       "      <td>AAAAAAAAAAAATAATAATTAATAATAATAATAATAATAAAATAAT...</td>\n",
       "      <td>150</td>\n",
       "      <td>63</td>\n",
       "      <td>2.380952</td>\n",
       "      <td>Bot</td>\n",
       "    </tr>\n",
       "    <tr>\n",
       "      <th>2.352150e+09</th>\n",
       "      <td>AAAAAAAAAAAAAAAAAAAAAAATAATAATATAATAATATAATAAT...</td>\n",
       "      <td>163</td>\n",
       "      <td>69</td>\n",
       "      <td>2.362319</td>\n",
       "      <td>Bot</td>\n",
       "    </tr>\n",
       "  </tbody>\n",
       "</table>\n",
       "</div>"
      ],
      "text/plain": [
       "                                                            dna  \\\n",
       "user_id                                                           \n",
       "2.384583e+09  AAAAATAATAATTAATAATAAAAAAAAAAAATAAAATAATAATTAT...   \n",
       "2.361662e+09  AAAAAAAAAAAATAATAATATAATAATTAATAATAATAATAATAAT...   \n",
       "1.925486e+07  TAAAAAAAAAAAAATCTATTATCAAAAAAAAAAAAAAAAAAAAAAA...   \n",
       "2.366354e+09  AAAAAAAAAAAATAATAATTAATAATAATAATAATAATAAAATAAT...   \n",
       "2.352150e+09  AAAAAAAAAAAAAAAAAAAAAAATAATAATATAATAATATAATAAT...   \n",
       "\n",
       "              original_dna_size  compressed_dna_size  compression_ratio  \\\n",
       "user_id                                                                   \n",
       "2.384583e+09                111                   62           1.790323   \n",
       "2.361662e+09                138                   62           2.225806   \n",
       "1.925486e+07               3256                  559           5.824687   \n",
       "2.366354e+09                150                   63           2.380952   \n",
       "2.352150e+09                163                   69           2.362319   \n",
       "\n",
       "             Account Type  \n",
       "user_id                    \n",
       "2.384583e+09          Bot  \n",
       "2.361662e+09          Bot  \n",
       "1.925486e+07      Genuine  \n",
       "2.366354e+09          Bot  \n",
       "2.352150e+09          Bot  "
      ]
     },
     "execution_count": 12,
     "metadata": {},
     "output_type": "execute_result"
    }
   ],
   "source": [
    "all_dna.sample(5)"
   ]
  },
  {
   "cell_type": "markdown",
   "metadata": {},
   "source": [
    "##### Plot of Uncompressed DNA Size vs. Compressed DNA Size.\n",
    "\n",
    "Includes the following accounts:\n",
    "1. Genuine users\n",
    "1. Social Spambots \\#1\n",
    "1. Social Spambots \\#2\n",
    "1. Social Spambots \\#3\n",
    "1. Traditional Spambots \\#1"
   ]
  },
  {
   "cell_type": "code",
   "execution_count": 13,
   "metadata": {},
   "outputs": [
    {
     "name": "stderr",
     "output_type": "stream",
     "text": [
      "/Users/nivranshu/anaconda3/lib/python3.6/site-packages/seaborn/axisgrid.py:230: UserWarning: The `size` paramter has been renamed to `height`; please update your code.\n",
      "  warnings.warn(msg, UserWarning)\n"
     ]
    },
    {
     "data": {
      "text/plain": [
       "<seaborn.axisgrid.FacetGrid at 0x1a20532240>"
      ]
     },
     "execution_count": 13,
     "metadata": {},
     "output_type": "execute_result"
    },
    {
     "data": {
      "image/png": "[encoded data removed]",
      "text/plain": [
       "<Figure size 577.875x504 with 1 Axes>"
      ]
     },
     "metadata": {},
     "output_type": "display_data"
    }
   ],
   "source": [
    "sns.set_style(\"white\")\n",
    "\n",
    "pal = {\n",
    "    'Genuine': 'green',\n",
    "    'Bot': 'red'\n",
    "}\n",
    "\n",
    "g = sns.FacetGrid(all_dna, hue='Account Type', palette=pal, size=7, hue_kws=dict(marker=[\"o\", \"x\"]))\n",
    "g.map(plt.scatter, \"original_dna_size\", \"compressed_dna_size\", s=25, alpha=.6, edgecolor=\"white\")\n",
    "g.add_legend()\n",
    "g.set_axis_labels('Original DNA Size', 'Compressed DNA Size')"
   ]
  },
  {
   "cell_type": "markdown",
   "metadata": {},
   "source": [
    "##### Plot of DNA Size vs. Compression Ratio.\n",
    "\n",
    "Includes the following accounts:\n",
    "1. Genuine users\n",
    "1. Social Spambots \\#1\n",
    "1. Social Spambots \\#2\n",
    "1. Social Spambots \\#3\n",
    "1. Traditional Spambots \\#1"
   ]
  },
  {
   "cell_type": "code",
   "execution_count": 14,
   "metadata": {},
   "outputs": [
    {
     "name": "stderr",
     "output_type": "stream",
     "text": [
      "/Users/nivranshu/anaconda3/lib/python3.6/site-packages/seaborn/axisgrid.py:230: UserWarning: The `size` paramter has been renamed to `height`; please update your code.\n",
      "  warnings.warn(msg, UserWarning)\n"
     ]
    },
    {
     "data": {
      "text/plain": [
       "<seaborn.axisgrid.FacetGrid at 0x1a347f6828>"
      ]
     },
     "execution_count": 14,
     "metadata": {},
     "output_type": "execute_result"
    },
    {
     "data": {
      "image/png": "[encoded data removed]",
      "text/plain": [
       "<Figure size 577.875x504 with 1 Axes>"
      ]
     },
     "metadata": {},
     "output_type": "display_data"
    }
   ],
   "source": [
    "sns.set_style(\"white\")\n",
    "\n",
    "pal = {\n",
    "    'Genuine': 'green',\n",
    "    'Bot': 'red'\n",
    "}\n",
    "\n",
    "g = sns.FacetGrid(all_dna, hue='Account Type', palette=pal, size=7, hue_kws=dict(marker=[\"o\", \"x\"]))\n",
    "g.map(plt.scatter, \"original_dna_size\", \"compression_ratio\", s=25, alpha=.6, edgecolor=\"white\")\n",
    "g.add_legend()\n",
    "g.set_axis_labels('Original DNA Size', 'Compression Ratio')"
   ]
  },
  {
   "cell_type": "markdown",
   "metadata": {},
   "source": [
    "##### Historgram for Compression Ratio\n",
    "\n",
    "Includes the following accounts:\n",
    "1. Genuine users\n",
    "1. Social Spambots \\#1\n",
    "1. Social Spambots \\#2\n",
    "1. Social Spambots \\#3\n",
    "1. Traditional Spambots \\#1"
   ]
  },
  {
   "cell_type": "code",
   "execution_count": 15,
   "metadata": {},
   "outputs": [
    {
     "name": "stderr",
     "output_type": "stream",
     "text": [
      "/Users/nivranshu/anaconda3/lib/python3.6/site-packages/seaborn/axisgrid.py:230: UserWarning: The `size` paramter has been renamed to `height`; please update your code.\n",
      "  warnings.warn(msg, UserWarning)\n"
     ]
    },
    {
     "data": {
      "text/plain": [
       "<seaborn.axisgrid.FacetGrid at 0x1a38c8b320>"
      ]
     },
     "execution_count": 15,
     "metadata": {},
     "output_type": "execute_result"
    },
    {
     "data": {
      "image/png": "[encoded data removed]",
      "text/plain": [
       "<Figure size 433.875x360 with 1 Axes>"
      ]
     },
     "metadata": {},
     "output_type": "display_data"
    }
   ],
   "source": [
    "g = sns.FacetGrid(all_dna, hue='Account Type', palette=pal, size=5)\n",
    "g.set(xlim=(0, 75))\n",
    "g.map(sns.kdeplot, 'compression_ratio')\n",
    "g.add_legend()"
   ]
  },
  {
   "cell_type": "markdown",
   "metadata": {},
   "source": [
    "<hr>"
   ]
  },
  {
   "cell_type": "markdown",
   "metadata": {},
   "source": [
    "Evaluation Metrics\n",
    "1. Accuracy\n",
    "1. Precision\n",
    "1. Recall\n",
    "1. F1 Score\n",
    "1. Specificity\n",
    "1. MCC"
   ]
  },
  {
   "cell_type": "code",
   "execution_count": 16,
   "metadata": {},
   "outputs": [],
   "source": [
    "def evaluate(y_test, predictions):\n",
    "    '''Return a dataframe with accuracy, precision, recall and f1 scores for predictions.'''\n",
    "    \n",
    "    tn, fp, fn, tp = confusion_matrix(y_test, predictions).ravel()\n",
    "    specificity = tn / (tn+fp)\n",
    "    \n",
    "    results = [\n",
    "        {\n",
    "            'Metric': 'Accuracy',\n",
    "            'Score': accuracy_score(y_test, predictions)\n",
    "        },\n",
    "        {\n",
    "            'Metric': 'Precision',\n",
    "            'Score': precision_score(y_test, predictions)\n",
    "        },\n",
    "        {\n",
    "            'Metric': 'Recall',\n",
    "            'Score': recall_score(y_test, predictions)\n",
    "        },\n",
    "        {\n",
    "            'Metric': 'F1 Score',\n",
    "            'Score': f1_score(y_test, predictions)\n",
    "        },\n",
    "        {\n",
    "            'Metric': 'MCC',\n",
    "            'Score': matthews_corrcoef(y_test, predictions)\n",
    "        },\n",
    "        {\n",
    "            'Metric': 'Specificity',\n",
    "            'Score': specificity\n",
    "        },\n",
    "    ]\n",
    "\n",
    "    return pd.DataFrame(results)"
   ]
  },
  {
   "cell_type": "markdown",
   "metadata": {},
   "source": [
    "<hr>"
   ]
  },
  {
   "cell_type": "code",
   "execution_count": 17,
   "metadata": {},
   "outputs": [],
   "source": [
    "def train_predict_evaluate(dna, features, test_size=0.5):\n",
    "    '''Train a Logistic Regression model with given features\n",
    "    using default parameters on a random sample of data.'''\n",
    "\n",
    "    # Randomly shuffle the dna dataframe.\n",
    "    dna = utils.shuffle(dna)\n",
    "\n",
    "    # Features and labels.\n",
    "    X = dna[features]\n",
    "    y = dna.loc[:, 'label']\n",
    "\n",
    "    # Split the dataset for training and testing using Logistic Regression.\n",
    "    X_train, X_test, y_train, y_test = train_test_split(X, y, test_size=test_size)\n",
    "\n",
    "    # Logistic Regression classifier with default parameters.\n",
    "    classifier = LogisticRegression()\n",
    "\n",
    "    # Train the classifier.\n",
    "    start_train = time.time()\n",
    "    classifier.fit(X_train, y_train)\n",
    "    end_train = time.time()\n",
    "\n",
    "    # Make predictions on the test set.\n",
    "    start_test = time.time()\n",
    "    predictions = classifier.predict(X_test)\n",
    "    end_test = time.time()\n",
    "\n",
    "    # Evaluation on the test set.\n",
    "    results = evaluate(y_test, predictions)\n",
    "\n",
    "    return results"
   ]
  },
  {
   "cell_type": "markdown",
   "metadata": {},
   "source": [
    "<hr>"
   ]
  },
  {
   "cell_type": "markdown",
   "metadata": {},
   "source": [
    "Results for k-common substring"
   ]
  },
  {
   "cell_type": "code",
   "execution_count": 18,
   "metadata": {},
   "outputs": [],
   "source": [
    "k_common_substring_1 = pd.DataFrame({'Supervised': [0.977, 0.977, 0.955, 0.982, 0.977, 0.981],\n",
    "                                     'Unsupervised': [0.976, 0.977, 0.952, 0.982, 0.972, 0.981]}, \n",
    "                                    index=['Accuracy', 'F1 Score', 'MCC', 'Precision', 'Recall', 'Specificity'])\n"
   ]
  },
  {
   "cell_type": "code",
   "execution_count": 19,
   "metadata": {},
   "outputs": [],
   "source": [
    "k_common_substring_2 = pd.DataFrame({'Supervised': [0.970, 0.970, 0.940, 0.978, 0.961, 0.979], \n",
    "                                     'Unsupervised': [0.929, 0.923, 0.867, 1.000, 0.858, 1.000]},\n",
    "                                    index=['Accuracy', 'F1 Score', 'MCC', 'Precision', 'Recall', 'Specificity'])"
   ]
  },
  {
   "cell_type": "markdown",
   "metadata": {},
   "source": [
    "<hr>"
   ]
  },
  {
   "cell_type": "markdown",
   "metadata": {},
   "source": [
    "## Test Set #1"
   ]
  },
  {
   "cell_type": "code",
   "execution_count": 20,
   "metadata": {},
   "outputs": [],
   "source": [
    "# Genuine accounts in test set 1.\n",
    "gen_test1 = gen[gen['test_set_1'] == 1]\n",
    "\n",
    "# Social spambots in test set 1.\n",
    "ss1_test_1 = ss1[ss1['test_set_1'] == 1]\n",
    "\n",
    "\n",
    "# Tweets for genuine accounts in test set 1.\n",
    "gen_tweets_test1 = gen_tweets[gen_tweets['user_id'].isin(gen_test1['id'])]\n",
    "\n",
    "# Tweets for spambot accounts in test set 1.\n",
    "ss1_tweets_test1 = ss1_tweets[ss1_tweets['user_id'].isin(ss1_test_1['id'])]\n",
    "\n",
    "\n",
    "# DNA for genuine accounts in test set 1.\n",
    "gen_dna_test1 = create_dna_from_tweets(gen_tweets_test1)\n",
    "\n",
    "# DNA for spambots in test set 1.\n",
    "ss1_dna_test1 = create_dna_from_tweets(ss1_tweets_test1)\n",
    "\n",
    "\n",
    "# DNA string compression for genuine accounts in test set 1.\n",
    "gen_dna_test1 = compress_dna_df(gen_dna_test1)\n",
    "\n",
    "# DNA string compression for spambots in test set 1.\n",
    "ss1_dna_test1 = compress_dna_df(ss1_dna_test1)\n",
    "\n",
    "\n",
    "# Add a column for label to the dataframes.\n",
    "gen_dna_test1['label'] = 0\n",
    "ss1_dna_test1['label'] = 1"
   ]
  },
  {
   "cell_type": "markdown",
   "metadata": {},
   "source": [
    "There are some accounts for which there are no tweets, set an empty string as the DNA sequence for such accounts."
   ]
  },
  {
   "cell_type": "code",
   "execution_count": 21,
   "metadata": {},
   "outputs": [
    {
     "data": {
      "text/plain": [
       "33"
      ]
     },
     "execution_count": 21,
     "metadata": {},
     "output_type": "execute_result"
    }
   ],
   "source": [
    "sys.getsizeof(''.encode('utf-8'))   # size in bytes of empty string"
   ]
  },
  {
   "cell_type": "code",
   "execution_count": 22,
   "metadata": {},
   "outputs": [
    {
     "data": {
      "text/plain": [
       "41"
      ]
     },
     "execution_count": 22,
     "metadata": {},
     "output_type": "execute_result"
    }
   ],
   "source": [
    "sys.getsizeof(zlib.compress(''.encode('utf-8')))    # size in bytes of compressed empty string"
   ]
  },
  {
   "cell_type": "code",
   "execution_count": 23,
   "metadata": {},
   "outputs": [
    {
     "data": {
      "text/plain": [
       "0.8048780487804879"
      ]
     },
     "execution_count": 23,
     "metadata": {},
     "output_type": "execute_result"
    }
   ],
   "source": [
    "# compression ratio for empty string\n",
    "sys.getsizeof(''.encode('utf-8')) / sys.getsizeof(zlib.compress(''.encode('utf-8')))"
   ]
  },
  {
   "cell_type": "code",
   "execution_count": 24,
   "metadata": {},
   "outputs": [],
   "source": [
    "gen_with_no_tweets_test1 = gen_test1[~gen_test1['id'].isin(gen_dna_test1.index)]\n",
    "\n",
    "gen_with_no_tweets_dna_test1 = pd.DataFrame({'id': gen_with_no_tweets_test1['id'], \n",
    "                                             'original_dna_size': 33, \n",
    "                                             'compressed_dna_size': 41, \n",
    "                                             'compression_ratio': 0.80, \n",
    "                                             'label': 0})\n",
    "\n",
    "gen_with_no_tweets_dna_test1 = gen_with_no_tweets_dna_test1.set_index('id')\n",
    "\n",
    "gen_dna_test1 = pd.concat([gen_dna_test1, gen_with_no_tweets_dna_test1])\n",
    "\n",
    "# Combine test set 1 accounts into a single dataframe.\n",
    "dna_test1 = pd.concat([gen_dna_test1, ss1_dna_test1])"
   ]
  },
  {
   "cell_type": "code",
   "execution_count": 25,
   "metadata": {},
   "outputs": [
    {
     "data": {
      "text/html": [
       "<div>\n",
       "<style scoped>\n",
       "    .dataframe tbody tr th:only-of-type {\n",
       "        vertical-align: middle;\n",
       "    }\n",
       "\n",
       "    .dataframe tbody tr th {\n",
       "        vertical-align: top;\n",
       "    }\n",
       "\n",
       "    .dataframe thead th {\n",
       "        text-align: right;\n",
       "    }\n",
       "</style>\n",
       "<table border=\"1\" class=\"dataframe\">\n",
       "  <thead>\n",
       "    <tr style=\"text-align: right;\">\n",
       "      <th></th>\n",
       "      <th>compressed_dna_size</th>\n",
       "      <th>compression_ratio</th>\n",
       "      <th>dna</th>\n",
       "      <th>label</th>\n",
       "      <th>original_dna_size</th>\n",
       "    </tr>\n",
       "  </thead>\n",
       "  <tbody>\n",
       "    <tr>\n",
       "      <th>467152720.0</th>\n",
       "      <td>76</td>\n",
       "      <td>18.302632</td>\n",
       "      <td>AAAAAAAAAAAAAAAAAAAAAAAAAAAAAAAAAAAAAAAAAAAAAA...</td>\n",
       "      <td>1</td>\n",
       "      <td>1391</td>\n",
       "    </tr>\n",
       "    <tr>\n",
       "      <th>466435182.0</th>\n",
       "      <td>69</td>\n",
       "      <td>22.927536</td>\n",
       "      <td>AAAAAAAAAAAAAAAAAACAAAAAAAACAAAAAAAAAAAAAAAAAA...</td>\n",
       "      <td>1</td>\n",
       "      <td>1582</td>\n",
       "    </tr>\n",
       "    <tr>\n",
       "      <th>367670418.0</th>\n",
       "      <td>41</td>\n",
       "      <td>0.800000</td>\n",
       "      <td>NaN</td>\n",
       "      <td>0</td>\n",
       "      <td>33</td>\n",
       "    </tr>\n",
       "    <tr>\n",
       "      <th>468034219.0</th>\n",
       "      <td>63</td>\n",
       "      <td>24.015873</td>\n",
       "      <td>AAAAAAAAAAAAAAAAAAAAAAAAAAAAAAAAAAAACAAAACAAAA...</td>\n",
       "      <td>1</td>\n",
       "      <td>1513</td>\n",
       "    </tr>\n",
       "    <tr>\n",
       "      <th>466398478.0</th>\n",
       "      <td>57</td>\n",
       "      <td>22.719298</td>\n",
       "      <td>AAAAAAAAAAAAAAAAAAAAAAAAAAAAAAAAAAAAAAAAAAAAAA...</td>\n",
       "      <td>1</td>\n",
       "      <td>1295</td>\n",
       "    </tr>\n",
       "  </tbody>\n",
       "</table>\n",
       "</div>"
      ],
      "text/plain": [
       "             compressed_dna_size  compression_ratio  \\\n",
       "467152720.0                   76          18.302632   \n",
       "466435182.0                   69          22.927536   \n",
       "367670418.0                   41           0.800000   \n",
       "468034219.0                   63          24.015873   \n",
       "466398478.0                   57          22.719298   \n",
       "\n",
       "                                                           dna  label  \\\n",
       "467152720.0  AAAAAAAAAAAAAAAAAAAAAAAAAAAAAAAAAAAAAAAAAAAAAA...      1   \n",
       "466435182.0  AAAAAAAAAAAAAAAAAACAAAAAAAACAAAAAAAAAAAAAAAAAA...      1   \n",
       "367670418.0                                                NaN      0   \n",
       "468034219.0  AAAAAAAAAAAAAAAAAAAAAAAAAAAAAAAAAAAACAAAACAAAA...      1   \n",
       "466398478.0  AAAAAAAAAAAAAAAAAAAAAAAAAAAAAAAAAAAAAAAAAAAAAA...      1   \n",
       "\n",
       "             original_dna_size  \n",
       "467152720.0               1391  \n",
       "466435182.0               1582  \n",
       "367670418.0                 33  \n",
       "468034219.0               1513  \n",
       "466398478.0               1295  "
      ]
     },
     "execution_count": 25,
     "metadata": {},
     "output_type": "execute_result"
    }
   ],
   "source": [
    "dna_test1.sample(5)"
   ]
  },
  {
   "cell_type": "markdown",
   "metadata": {},
   "source": [
    "1. Logistic Regression with Original DNA Size + Compressed DNA Size"
   ]
  },
  {
   "cell_type": "code",
   "execution_count": 26,
   "metadata": {},
   "outputs": [
    {
     "data": {
      "text/html": [
       "<div>\n",
       "<style scoped>\n",
       "    .dataframe tbody tr th:only-of-type {\n",
       "        vertical-align: middle;\n",
       "    }\n",
       "\n",
       "    .dataframe tbody tr th {\n",
       "        vertical-align: top;\n",
       "    }\n",
       "\n",
       "    .dataframe thead th {\n",
       "        text-align: right;\n",
       "    }\n",
       "</style>\n",
       "<table border=\"1\" class=\"dataframe\">\n",
       "  <thead>\n",
       "    <tr style=\"text-align: right;\">\n",
       "      <th></th>\n",
       "      <th>Mean</th>\n",
       "      <th>SD</th>\n",
       "      <th>k-supervised</th>\n",
       "      <th>k-unsupervised</th>\n",
       "      <th>p-supervised</th>\n",
       "      <th>p-unsupervised</th>\n",
       "      <th>t-supervised</th>\n",
       "      <th>t-unsupervised</th>\n",
       "    </tr>\n",
       "    <tr>\n",
       "      <th>Metric</th>\n",
       "      <th></th>\n",
       "      <th></th>\n",
       "      <th></th>\n",
       "      <th></th>\n",
       "      <th></th>\n",
       "      <th></th>\n",
       "      <th></th>\n",
       "      <th></th>\n",
       "    </tr>\n",
       "  </thead>\n",
       "  <tbody>\n",
       "    <tr>\n",
       "      <th>Accuracy</th>\n",
       "      <td>0.979817</td>\n",
       "      <td>0.003243</td>\n",
       "      <td>0.977</td>\n",
       "      <td>0.976</td>\n",
       "      <td>0.0</td>\n",
       "      <td>0.0</td>\n",
       "      <td>27.4702</td>\n",
       "      <td>37.2208</td>\n",
       "    </tr>\n",
       "    <tr>\n",
       "      <th>F1 Score</th>\n",
       "      <td>0.979754</td>\n",
       "      <td>0.003264</td>\n",
       "      <td>0.977</td>\n",
       "      <td>0.977</td>\n",
       "      <td>0.0</td>\n",
       "      <td>0.0</td>\n",
       "      <td>26.6784</td>\n",
       "      <td>26.6784</td>\n",
       "    </tr>\n",
       "    <tr>\n",
       "      <th>MCC</th>\n",
       "      <td>0.959678</td>\n",
       "      <td>0.006465</td>\n",
       "      <td>0.955</td>\n",
       "      <td>0.952</td>\n",
       "      <td>0.0</td>\n",
       "      <td>0.0</td>\n",
       "      <td>22.8778</td>\n",
       "      <td>37.5508</td>\n",
       "    </tr>\n",
       "    <tr>\n",
       "      <th>Precision</th>\n",
       "      <td>0.978095</td>\n",
       "      <td>0.006769</td>\n",
       "      <td>0.982</td>\n",
       "      <td>0.982</td>\n",
       "      <td>0.0</td>\n",
       "      <td>0.0</td>\n",
       "      <td>-18.2408</td>\n",
       "      <td>-18.2408</td>\n",
       "    </tr>\n",
       "    <tr>\n",
       "      <th>Recall</th>\n",
       "      <td>0.981475</td>\n",
       "      <td>0.005580</td>\n",
       "      <td>0.977</td>\n",
       "      <td>0.972</td>\n",
       "      <td>0.0</td>\n",
       "      <td>0.0</td>\n",
       "      <td>25.3615</td>\n",
       "      <td>53.6978</td>\n",
       "    </tr>\n",
       "    <tr>\n",
       "      <th>Specificity</th>\n",
       "      <td>0.978173</td>\n",
       "      <td>0.006884</td>\n",
       "      <td>0.981</td>\n",
       "      <td>0.981</td>\n",
       "      <td>0.0</td>\n",
       "      <td>0.0</td>\n",
       "      <td>-12.9850</td>\n",
       "      <td>-12.9850</td>\n",
       "    </tr>\n",
       "  </tbody>\n",
       "</table>\n",
       "</div>"
      ],
      "text/plain": [
       "                 Mean        SD  k-supervised  k-unsupervised  p-supervised  \\\n",
       "Metric                                                                        \n",
       "Accuracy     0.979817  0.003243         0.977           0.976           0.0   \n",
       "F1 Score     0.979754  0.003264         0.977           0.977           0.0   \n",
       "MCC          0.959678  0.006465         0.955           0.952           0.0   \n",
       "Precision    0.978095  0.006769         0.982           0.982           0.0   \n",
       "Recall       0.981475  0.005580         0.977           0.972           0.0   \n",
       "Specificity  0.978173  0.006884         0.981           0.981           0.0   \n",
       "\n",
       "             p-unsupervised  t-supervised  t-unsupervised  \n",
       "Metric                                                     \n",
       "Accuracy                0.0       27.4702         37.2208  \n",
       "F1 Score                0.0       26.6784         26.6784  \n",
       "MCC                     0.0       22.8778         37.5508  \n",
       "Precision               0.0      -18.2408        -18.2408  \n",
       "Recall                  0.0       25.3615         53.6978  \n",
       "Specificity             0.0      -12.9850        -12.9850  "
      ]
     },
     "execution_count": 26,
     "metadata": {},
     "output_type": "execute_result"
    }
   ],
   "source": [
    "results = pd.DataFrame()\n",
    "\n",
    "for i in range(1000):\n",
    "    np.random.seed(i)\n",
    "    results = pd.concat([results, train_predict_evaluate(dna_test1, ['original_dna_size', 'compressed_dna_size'])])\n",
    "\n",
    "# Compute average scores for each metric\n",
    "results_with_length = results.groupby(by=['Metric']) \\\n",
    "               .mean() \\\n",
    "               .rename({'Score': 'Mean'}, axis=1) \\\n",
    "               .join(results.groupby(by=['Metric'])\n",
    "                            .std() \\\n",
    "                            .rename({'Score': 'Std.'}, axis=1))\n",
    "\n",
    "# Compute statistical significance against the method k-common-substring for DNA sequences\n",
    "stat_sig = []\n",
    "for metric in k_common_substring_1.index:\n",
    "    s = dict()\n",
    "\n",
    "    ts, ps = ttest_1samp(results[results['Metric'] == metric]['Score'], \n",
    "                         k_common_substring_1['Supervised'][metric])\n",
    "    tu, pu = ttest_1samp(results[results['Metric'] == metric]['Score'], \n",
    "                         k_common_substring_1['Unsupervised'][metric])\n",
    "\n",
    "    s['Metric'] = metric\n",
    "    s['t-supervised'] = round(ts, 4)\n",
    "    s['t-unsupervised'] = round(tu, 4)\n",
    "    s['p-supervised'] = round(ps, 4)\n",
    "    s['p-unsupervised'] = round(pu, 4)\n",
    "    s['Mean'] = results[results['Metric'] == metric]['Score'].mean()\n",
    "    s['SD'] = results[results['Metric'] == metric]['Score'].std()\n",
    "    s['k-supervised'] = k_common_substring_1['Supervised'][metric]\n",
    "    s['k-unsupervised'] = k_common_substring_1['Unsupervised'][metric]\n",
    "    \n",
    "    stat_sig.append(s)\n",
    "\n",
    "stat_sig = pd.DataFrame(stat_sig).set_index(['Metric'])\n",
    "\n",
    "stat_sig"
   ]
  },
  {
   "cell_type": "markdown",
   "metadata": {},
   "source": [
    "2. Logistic Regression with Original DNA Size + Compression Ratio"
   ]
  },
  {
   "cell_type": "code",
   "execution_count": 27,
   "metadata": {},
   "outputs": [
    {
     "data": {
      "text/html": [
       "<div>\n",
       "<style scoped>\n",
       "    .dataframe tbody tr th:only-of-type {\n",
       "        vertical-align: middle;\n",
       "    }\n",
       "\n",
       "    .dataframe tbody tr th {\n",
       "        vertical-align: top;\n",
       "    }\n",
       "\n",
       "    .dataframe thead th {\n",
       "        text-align: right;\n",
       "    }\n",
       "</style>\n",
       "<table border=\"1\" class=\"dataframe\">\n",
       "  <thead>\n",
       "    <tr style=\"text-align: right;\">\n",
       "      <th></th>\n",
       "      <th>Mean</th>\n",
       "      <th>SD</th>\n",
       "      <th>k-supervised</th>\n",
       "      <th>k-unsupervised</th>\n",
       "      <th>p-supervised</th>\n",
       "      <th>p-unsupervised</th>\n",
       "      <th>t-supervised</th>\n",
       "      <th>t-unsupervised</th>\n",
       "    </tr>\n",
       "    <tr>\n",
       "      <th>Metric</th>\n",
       "      <th></th>\n",
       "      <th></th>\n",
       "      <th></th>\n",
       "      <th></th>\n",
       "      <th></th>\n",
       "      <th></th>\n",
       "      <th></th>\n",
       "      <th></th>\n",
       "    </tr>\n",
       "  </thead>\n",
       "  <tbody>\n",
       "    <tr>\n",
       "      <th>Accuracy</th>\n",
       "      <td>0.983907</td>\n",
       "      <td>0.002832</td>\n",
       "      <td>0.977</td>\n",
       "      <td>0.976</td>\n",
       "      <td>0.0</td>\n",
       "      <td>0.0</td>\n",
       "      <td>77.1311</td>\n",
       "      <td>88.2988</td>\n",
       "    </tr>\n",
       "    <tr>\n",
       "      <th>F1 Score</th>\n",
       "      <td>0.983690</td>\n",
       "      <td>0.002922</td>\n",
       "      <td>0.977</td>\n",
       "      <td>0.977</td>\n",
       "      <td>0.0</td>\n",
       "      <td>0.0</td>\n",
       "      <td>72.3947</td>\n",
       "      <td>72.3947</td>\n",
       "    </tr>\n",
       "    <tr>\n",
       "      <th>MCC</th>\n",
       "      <td>0.967940</td>\n",
       "      <td>0.005640</td>\n",
       "      <td>0.955</td>\n",
       "      <td>0.952</td>\n",
       "      <td>0.0</td>\n",
       "      <td>0.0</td>\n",
       "      <td>72.5555</td>\n",
       "      <td>89.3770</td>\n",
       "    </tr>\n",
       "    <tr>\n",
       "      <th>Precision</th>\n",
       "      <td>0.991712</td>\n",
       "      <td>0.003835</td>\n",
       "      <td>0.982</td>\n",
       "      <td>0.982</td>\n",
       "      <td>0.0</td>\n",
       "      <td>0.0</td>\n",
       "      <td>80.0943</td>\n",
       "      <td>80.0943</td>\n",
       "    </tr>\n",
       "    <tr>\n",
       "      <th>Recall</th>\n",
       "      <td>0.975819</td>\n",
       "      <td>0.004926</td>\n",
       "      <td>0.977</td>\n",
       "      <td>0.972</td>\n",
       "      <td>0.0</td>\n",
       "      <td>0.0</td>\n",
       "      <td>-7.5818</td>\n",
       "      <td>24.5156</td>\n",
       "    </tr>\n",
       "    <tr>\n",
       "      <th>Specificity</th>\n",
       "      <td>0.991919</td>\n",
       "      <td>0.003743</td>\n",
       "      <td>0.981</td>\n",
       "      <td>0.981</td>\n",
       "      <td>0.0</td>\n",
       "      <td>0.0</td>\n",
       "      <td>92.2490</td>\n",
       "      <td>92.2490</td>\n",
       "    </tr>\n",
       "  </tbody>\n",
       "</table>\n",
       "</div>"
      ],
      "text/plain": [
       "                 Mean        SD  k-supervised  k-unsupervised  p-supervised  \\\n",
       "Metric                                                                        \n",
       "Accuracy     0.983907  0.002832         0.977           0.976           0.0   \n",
       "F1 Score     0.983690  0.002922         0.977           0.977           0.0   \n",
       "MCC          0.967940  0.005640         0.955           0.952           0.0   \n",
       "Precision    0.991712  0.003835         0.982           0.982           0.0   \n",
       "Recall       0.975819  0.004926         0.977           0.972           0.0   \n",
       "Specificity  0.991919  0.003743         0.981           0.981           0.0   \n",
       "\n",
       "             p-unsupervised  t-supervised  t-unsupervised  \n",
       "Metric                                                     \n",
       "Accuracy                0.0       77.1311         88.2988  \n",
       "F1 Score                0.0       72.3947         72.3947  \n",
       "MCC                     0.0       72.5555         89.3770  \n",
       "Precision               0.0       80.0943         80.0943  \n",
       "Recall                  0.0       -7.5818         24.5156  \n",
       "Specificity             0.0       92.2490         92.2490  "
      ]
     },
     "execution_count": 27,
     "metadata": {},
     "output_type": "execute_result"
    }
   ],
   "source": [
    "results = pd.DataFrame()\n",
    "for i in range(1000):\n",
    "    np.random.seed(i)\n",
    "    results = pd.concat([results, train_predict_evaluate(dna_test1, ['original_dna_size', 'compression_ratio'])])\n",
    "\n",
    "# Compute average scores for each metric\n",
    "results_with_ratio = results.groupby(by=['Metric']) \\\n",
    "               .mean() \\\n",
    "               .rename({'Score': 'Mean'}, axis=1) \\\n",
    "               .join(results.groupby(by=['Metric'])\n",
    "                            .std() \\\n",
    "                            .rename({'Score': 'Std.'}, axis=1))\n",
    "\n",
    "# Compute statistical significance against the method k-common-substring for DNA sequences\n",
    "stat_sig = []\n",
    "for metric in k_common_substring_1.index:\n",
    "    s = dict()\n",
    "\n",
    "    ts, ps = ttest_1samp(results[results['Metric'] == metric]['Score'], \n",
    "                         k_common_substring_1['Supervised'][metric])\n",
    "    tu, pu = ttest_1samp(results[results['Metric'] == metric]['Score'], \n",
    "                         k_common_substring_1['Unsupervised'][metric])\n",
    "\n",
    "    s['Metric'] = metric\n",
    "    s['t-supervised'] = round(ts, 4)\n",
    "    s['t-unsupervised'] = round(tu, 4)\n",
    "    s['p-supervised'] = round(ps, 4)\n",
    "    s['p-unsupervised'] = round(pu, 4)\n",
    "    s['Mean'] = results[results['Metric'] == metric]['Score'].mean()\n",
    "    s['SD'] = results[results['Metric'] == metric]['Score'].std()\n",
    "    s['k-supervised'] = k_common_substring_1['Supervised'][metric]\n",
    "    s['k-unsupervised'] = k_common_substring_1['Unsupervised'][metric]\n",
    "    \n",
    "    stat_sig.append(s)\n",
    "\n",
    "stat_sig = pd.DataFrame(stat_sig).set_index(['Metric'])\n",
    "\n",
    "stat_sig"
   ]
  },
  {
   "cell_type": "code",
   "execution_count": 28,
   "metadata": {},
   "outputs": [
    {
     "name": "stdout",
     "output_type": "stream",
     "text": [
      "String Compression - Compressed DNA Size & 0.980 & 0.978 & 0.981 & 0.980 & 0.960 & 0.978 \\\\\n",
      "String Compression - Compression Ratio & 0.984 & 0.992 & 0.976 & 0.984 & 0.968 & 0.992 \\\\\n"
     ]
    }
   ],
   "source": [
    "print('String Compression - Compressed DNA Size &',\n",
    "      '{:.3f} &'.format(results_with_length['Mean']['Accuracy']),\n",
    "      '{:.3f} &'.format(results_with_length['Mean']['Precision']),\n",
    "      '{:.3f} &'.format(results_with_length['Mean']['Recall']),\n",
    "      '{:.3f} &'.format(results_with_length['Mean']['F1 Score']),\n",
    "      '{:.3f} &'.format(results_with_length['Mean']['MCC']),\n",
    "      '{:.3f} \\\\\\\\'.format(results_with_length['Mean']['Specificity']))\n",
    "\n",
    "print('String Compression - Compression Ratio &',\n",
    "      '{:.3f} &'.format(results_with_ratio['Mean']['Accuracy']),\n",
    "      '{:.3f} &'.format(results_with_ratio['Mean']['Precision']),\n",
    "      '{:.3f} &'.format(results_with_ratio['Mean']['Recall']),\n",
    "      '{:.3f} &'.format(results_with_ratio['Mean']['F1 Score']),\n",
    "      '{:.3f} &'.format(results_with_ratio['Mean']['MCC']),\n",
    "      '{:.3f} \\\\\\\\'.format(results_with_ratio['Mean']['Specificity']))"
   ]
  },
  {
   "cell_type": "markdown",
   "metadata": {},
   "source": [
    "<hr>"
   ]
  },
  {
   "cell_type": "markdown",
   "metadata": {},
   "source": [
    "## Test Set #2"
   ]
  },
  {
   "cell_type": "code",
   "execution_count": 29,
   "metadata": {},
   "outputs": [],
   "source": [
    "# Genuine accounts in test set 2.\n",
    "gen_test2 = gen[gen['test_set_2'] == 1]\n",
    "\n",
    "# Social spambots in test set 2.\n",
    "ss3_test_2 = ss3[ss3['test_set_2'] == 1]\n",
    "\n",
    "\n",
    "# Tweets for genuine accounts in test set 2.\n",
    "gen_tweets_test2 = gen_tweets[gen_tweets['user_id'].isin(gen_test2['id'])]\n",
    "\n",
    "# Tweets for spambot accounts in test set 2.\n",
    "ss3_tweets_test2 = ss3_tweets[ss3_tweets['user_id'].isin(ss3_test_2['id'])]\n",
    "\n",
    "\n",
    "# DNA for genuine accounts in test set 2.\n",
    "gen_dna_test2 = create_dna_from_tweets(gen_tweets_test2)\n",
    "\n",
    "# DNA for spambots in test set 2.\n",
    "ss3_dna_test2 = create_dna_from_tweets(ss3_tweets_test2)\n",
    "\n",
    "\n",
    "# DNA string compression for genuine accounts in test set 2.\n",
    "gen_dna_test2 = compress_dna_df(gen_dna_test2)\n",
    "\n",
    "# DNA string compression for spambots in test set 2.\n",
    "ss3_dna_test2 = compress_dna_df(ss3_dna_test2)\n",
    "\n",
    "\n",
    "# Add a column for label to the dataframes.\n",
    "gen_dna_test2['label'] = 0\n",
    "ss3_dna_test2['label'] = 1\n",
    "\n",
    "\n",
    "# Combine test set 2 accounts into a single dataframe.\n",
    "dna_test2 = pd.concat([gen_dna_test2, ss3_dna_test2])"
   ]
  },
  {
   "cell_type": "code",
   "execution_count": 30,
   "metadata": {},
   "outputs": [],
   "source": [
    "gen_with_no_tweets_test2 = gen_test2[~gen_test2['id'].isin(gen_dna_test2.index)]\n",
    "\n",
    "gen_with_no_tweets_dna_test2 = pd.DataFrame({'id': gen_with_no_tweets_test2['id'], \n",
    "                                             'original_dna_size': 33, \n",
    "                                             'compressed_dna_size': 41, \n",
    "                                             'compression_ratio': 0.80, \n",
    "                                             'label': 0})\n",
    "\n",
    "gen_with_no_tweets_dna_test2 = gen_with_no_tweets_dna_test2.set_index('id')\n",
    "\n",
    "gen_dna_test2 = pd.concat([gen_dna_test2, gen_with_no_tweets_dna_test2])\n",
    "\n",
    "# Combine test set 1 accounts into a single dataframe.\n",
    "dna_test2 = pd.concat([gen_dna_test2, ss3_dna_test2])"
   ]
  },
  {
   "cell_type": "markdown",
   "metadata": {},
   "source": [
    "1. Logistic Regression with Original DNA Size + Compressed DNA Size"
   ]
  },
  {
   "cell_type": "code",
   "execution_count": 31,
   "metadata": {},
   "outputs": [
    {
     "data": {
      "text/html": [
       "<div>\n",
       "<style scoped>\n",
       "    .dataframe tbody tr th:only-of-type {\n",
       "        vertical-align: middle;\n",
       "    }\n",
       "\n",
       "    .dataframe tbody tr th {\n",
       "        vertical-align: top;\n",
       "    }\n",
       "\n",
       "    .dataframe thead th {\n",
       "        text-align: right;\n",
       "    }\n",
       "</style>\n",
       "<table border=\"1\" class=\"dataframe\">\n",
       "  <thead>\n",
       "    <tr style=\"text-align: right;\">\n",
       "      <th></th>\n",
       "      <th>Mean</th>\n",
       "      <th>SD</th>\n",
       "      <th>k-supervised</th>\n",
       "      <th>k-unsupervised</th>\n",
       "      <th>p-supervised</th>\n",
       "      <th>p-unsupervised</th>\n",
       "      <th>t-supervised</th>\n",
       "      <th>t-unsupervised</th>\n",
       "    </tr>\n",
       "    <tr>\n",
       "      <th>Metric</th>\n",
       "      <th></th>\n",
       "      <th></th>\n",
       "      <th></th>\n",
       "      <th></th>\n",
       "      <th></th>\n",
       "      <th></th>\n",
       "      <th></th>\n",
       "      <th></th>\n",
       "    </tr>\n",
       "  </thead>\n",
       "  <tbody>\n",
       "    <tr>\n",
       "      <th>Accuracy</th>\n",
       "      <td>0.967260</td>\n",
       "      <td>0.005745</td>\n",
       "      <td>0.970</td>\n",
       "      <td>0.929</td>\n",
       "      <td>0.0</td>\n",
       "      <td>0.0</td>\n",
       "      <td>-15.0821</td>\n",
       "      <td>210.5950</td>\n",
       "    </tr>\n",
       "    <tr>\n",
       "      <th>F1 Score</th>\n",
       "      <td>0.965740</td>\n",
       "      <td>0.006050</td>\n",
       "      <td>0.970</td>\n",
       "      <td>0.923</td>\n",
       "      <td>0.0</td>\n",
       "      <td>0.0</td>\n",
       "      <td>-22.2652</td>\n",
       "      <td>223.4081</td>\n",
       "    </tr>\n",
       "    <tr>\n",
       "      <th>MCC</th>\n",
       "      <td>0.934976</td>\n",
       "      <td>0.011329</td>\n",
       "      <td>0.940</td>\n",
       "      <td>0.867</td>\n",
       "      <td>0.0</td>\n",
       "      <td>0.0</td>\n",
       "      <td>-14.0241</td>\n",
       "      <td>189.7359</td>\n",
       "    </tr>\n",
       "    <tr>\n",
       "      <th>Precision</th>\n",
       "      <td>0.981915</td>\n",
       "      <td>0.009865</td>\n",
       "      <td>0.978</td>\n",
       "      <td>1.000</td>\n",
       "      <td>0.0</td>\n",
       "      <td>0.0</td>\n",
       "      <td>12.5490</td>\n",
       "      <td>-57.9706</td>\n",
       "    </tr>\n",
       "    <tr>\n",
       "      <th>Recall</th>\n",
       "      <td>0.950268</td>\n",
       "      <td>0.012250</td>\n",
       "      <td>0.961</td>\n",
       "      <td>0.858</td>\n",
       "      <td>0.0</td>\n",
       "      <td>0.0</td>\n",
       "      <td>-27.7047</td>\n",
       "      <td>238.1949</td>\n",
       "    </tr>\n",
       "    <tr>\n",
       "      <th>Specificity</th>\n",
       "      <td>0.983376</td>\n",
       "      <td>0.009246</td>\n",
       "      <td>0.979</td>\n",
       "      <td>1.000</td>\n",
       "      <td>0.0</td>\n",
       "      <td>0.0</td>\n",
       "      <td>14.9683</td>\n",
       "      <td>-56.8561</td>\n",
       "    </tr>\n",
       "  </tbody>\n",
       "</table>\n",
       "</div>"
      ],
      "text/plain": [
       "                 Mean        SD  k-supervised  k-unsupervised  p-supervised  \\\n",
       "Metric                                                                        \n",
       "Accuracy     0.967260  0.005745         0.970           0.929           0.0   \n",
       "F1 Score     0.965740  0.006050         0.970           0.923           0.0   \n",
       "MCC          0.934976  0.011329         0.940           0.867           0.0   \n",
       "Precision    0.981915  0.009865         0.978           1.000           0.0   \n",
       "Recall       0.950268  0.012250         0.961           0.858           0.0   \n",
       "Specificity  0.983376  0.009246         0.979           1.000           0.0   \n",
       "\n",
       "             p-unsupervised  t-supervised  t-unsupervised  \n",
       "Metric                                                     \n",
       "Accuracy                0.0      -15.0821        210.5950  \n",
       "F1 Score                0.0      -22.2652        223.4081  \n",
       "MCC                     0.0      -14.0241        189.7359  \n",
       "Precision               0.0       12.5490        -57.9706  \n",
       "Recall                  0.0      -27.7047        238.1949  \n",
       "Specificity             0.0       14.9683        -56.8561  "
      ]
     },
     "execution_count": 31,
     "metadata": {},
     "output_type": "execute_result"
    }
   ],
   "source": [
    "results = pd.DataFrame()\n",
    "\n",
    "for i in range(1000):\n",
    "    np.random.seed(i)\n",
    "    results = pd.concat([results, train_predict_evaluate(dna_test2, ['original_dna_size', 'compressed_dna_size'])])\n",
    "\n",
    "results_with_length = results.groupby(by=['Metric']) \\\n",
    "                           .mean() \\\n",
    "                           .rename({'Score': 'Mean'}, axis=1) \\\n",
    "                           .join(results.groupby(by=['Metric'])\n",
    "                                        .std() \\\n",
    "                                        .rename({'Score': 'Std.'}, axis=1))\n",
    "# Compute average scores for each metric\n",
    "results_with_length = results.groupby(by=['Metric']) \\\n",
    "               .mean() \\\n",
    "               .rename({'Score': 'Mean'}, axis=1) \\\n",
    "               .join(results.groupby(by=['Metric'])\n",
    "                            .std() \\\n",
    "                            .rename({'Score': 'Std.'}, axis=1))\n",
    "\n",
    "# Compute statistical significance against the method k-common-substring for DNA sequences\n",
    "stat_sig = []\n",
    "for metric in k_common_substring_2.index:\n",
    "    s = dict()\n",
    "\n",
    "    ts, ps = ttest_1samp(results[results['Metric'] == metric]['Score'], \n",
    "                         k_common_substring_2['Supervised'][metric])\n",
    "    tu, pu = ttest_1samp(results[results['Metric'] == metric]['Score'], \n",
    "                         k_common_substring_2['Unsupervised'][metric])\n",
    "\n",
    "    s['Metric'] = metric\n",
    "    s['t-supervised'] = round(ts, 4)\n",
    "    s['t-unsupervised'] = round(tu, 4)\n",
    "    s['p-supervised'] = round(ps, 4)\n",
    "    s['p-unsupervised'] = round(pu, 4)\n",
    "    s['Mean'] = results[results['Metric'] == metric]['Score'].mean()\n",
    "    s['SD'] = results[results['Metric'] == metric]['Score'].std()\n",
    "    s['k-supervised'] = k_common_substring_2['Supervised'][metric]\n",
    "    s['k-unsupervised'] = k_common_substring_2['Unsupervised'][metric]\n",
    "    \n",
    "    stat_sig.append(s)\n",
    "\n",
    "stat_sig = pd.DataFrame(stat_sig).set_index(['Metric'])\n",
    "\n",
    "stat_sig"
   ]
  },
  {
   "cell_type": "markdown",
   "metadata": {},
   "source": [
    "2. Logistic Regression with Original DNA Size + Compression Ratio"
   ]
  },
  {
   "cell_type": "code",
   "execution_count": 32,
   "metadata": {},
   "outputs": [
    {
     "data": {
      "text/html": [
       "<div>\n",
       "<style scoped>\n",
       "    .dataframe tbody tr th:only-of-type {\n",
       "        vertical-align: middle;\n",
       "    }\n",
       "\n",
       "    .dataframe tbody tr th {\n",
       "        vertical-align: top;\n",
       "    }\n",
       "\n",
       "    .dataframe thead th {\n",
       "        text-align: right;\n",
       "    }\n",
       "</style>\n",
       "<table border=\"1\" class=\"dataframe\">\n",
       "  <thead>\n",
       "    <tr style=\"text-align: right;\">\n",
       "      <th></th>\n",
       "      <th>Mean</th>\n",
       "      <th>SD</th>\n",
       "      <th>k-supervised</th>\n",
       "      <th>k-unsupervised</th>\n",
       "      <th>p-supervised</th>\n",
       "      <th>p-unsupervised</th>\n",
       "      <th>t-supervised</th>\n",
       "      <th>t-unsupervised</th>\n",
       "    </tr>\n",
       "    <tr>\n",
       "      <th>Metric</th>\n",
       "      <th></th>\n",
       "      <th></th>\n",
       "      <th></th>\n",
       "      <th></th>\n",
       "      <th></th>\n",
       "      <th></th>\n",
       "      <th></th>\n",
       "      <th></th>\n",
       "    </tr>\n",
       "  </thead>\n",
       "  <tbody>\n",
       "    <tr>\n",
       "      <th>Accuracy</th>\n",
       "      <td>0.976681</td>\n",
       "      <td>0.006134</td>\n",
       "      <td>0.970</td>\n",
       "      <td>0.929</td>\n",
       "      <td>0.0000</td>\n",
       "      <td>0.0</td>\n",
       "      <td>34.4456</td>\n",
       "      <td>245.8210</td>\n",
       "    </tr>\n",
       "    <tr>\n",
       "      <th>F1 Score</th>\n",
       "      <td>0.975581</td>\n",
       "      <td>0.006533</td>\n",
       "      <td>0.970</td>\n",
       "      <td>0.923</td>\n",
       "      <td>0.0000</td>\n",
       "      <td>0.0</td>\n",
       "      <td>27.0121</td>\n",
       "      <td>254.5009</td>\n",
       "    </tr>\n",
       "    <tr>\n",
       "      <th>MCC</th>\n",
       "      <td>0.953835</td>\n",
       "      <td>0.011868</td>\n",
       "      <td>0.940</td>\n",
       "      <td>0.867</td>\n",
       "      <td>0.0000</td>\n",
       "      <td>0.0</td>\n",
       "      <td>36.8628</td>\n",
       "      <td>231.3742</td>\n",
       "    </tr>\n",
       "    <tr>\n",
       "      <th>Precision</th>\n",
       "      <td>0.991763</td>\n",
       "      <td>0.006116</td>\n",
       "      <td>0.978</td>\n",
       "      <td>1.000</td>\n",
       "      <td>0.0000</td>\n",
       "      <td>0.0</td>\n",
       "      <td>71.1591</td>\n",
       "      <td>-42.5856</td>\n",
       "    </tr>\n",
       "    <tr>\n",
       "      <th>Recall</th>\n",
       "      <td>0.960068</td>\n",
       "      <td>0.013766</td>\n",
       "      <td>0.961</td>\n",
       "      <td>0.858</td>\n",
       "      <td>0.0325</td>\n",
       "      <td>0.0</td>\n",
       "      <td>-2.1416</td>\n",
       "      <td>234.4698</td>\n",
       "    </tr>\n",
       "    <tr>\n",
       "      <th>Specificity</th>\n",
       "      <td>0.992411</td>\n",
       "      <td>0.005713</td>\n",
       "      <td>0.979</td>\n",
       "      <td>1.000</td>\n",
       "      <td>0.0000</td>\n",
       "      <td>0.0</td>\n",
       "      <td>74.2353</td>\n",
       "      <td>-42.0107</td>\n",
       "    </tr>\n",
       "  </tbody>\n",
       "</table>\n",
       "</div>"
      ],
      "text/plain": [
       "                 Mean        SD  k-supervised  k-unsupervised  p-supervised  \\\n",
       "Metric                                                                        \n",
       "Accuracy     0.976681  0.006134         0.970           0.929        0.0000   \n",
       "F1 Score     0.975581  0.006533         0.970           0.923        0.0000   \n",
       "MCC          0.953835  0.011868         0.940           0.867        0.0000   \n",
       "Precision    0.991763  0.006116         0.978           1.000        0.0000   \n",
       "Recall       0.960068  0.013766         0.961           0.858        0.0325   \n",
       "Specificity  0.992411  0.005713         0.979           1.000        0.0000   \n",
       "\n",
       "             p-unsupervised  t-supervised  t-unsupervised  \n",
       "Metric                                                     \n",
       "Accuracy                0.0       34.4456        245.8210  \n",
       "F1 Score                0.0       27.0121        254.5009  \n",
       "MCC                     0.0       36.8628        231.3742  \n",
       "Precision               0.0       71.1591        -42.5856  \n",
       "Recall                  0.0       -2.1416        234.4698  \n",
       "Specificity             0.0       74.2353        -42.0107  "
      ]
     },
     "execution_count": 32,
     "metadata": {},
     "output_type": "execute_result"
    }
   ],
   "source": [
    "results = pd.DataFrame()\n",
    "for i in range(1000):\n",
    "    np.random.seed(i)\n",
    "    results = pd.concat([results, train_predict_evaluate(dna_test2, ['original_dna_size', 'compression_ratio'])])\n",
    "\n",
    "# Compute average scores for each metric\n",
    "results_with_ratio = results.groupby(by=['Metric']) \\\n",
    "               .mean() \\\n",
    "               .rename({'Score': 'Mean'}, axis=1) \\\n",
    "               .join(results.groupby(by=['Metric'])\n",
    "                            .std() \\\n",
    "                            .rename({'Score': 'Std.'}, axis=1))\n",
    "\n",
    "# Compute statistical significance against the method k-common-substring for DNA sequences\n",
    "stat_sig = []\n",
    "for metric in k_common_substring_2.index:\n",
    "    s = dict()\n",
    "\n",
    "    ts, ps = ttest_1samp(results[results['Metric'] == metric]['Score'], \n",
    "                         k_common_substring_2['Supervised'][metric])\n",
    "    tu, pu = ttest_1samp(results[results['Metric'] == metric]['Score'], \n",
    "                         k_common_substring_2['Unsupervised'][metric])\n",
    "\n",
    "    s['Metric'] = metric\n",
    "    s['t-supervised'] = round(ts, 4)\n",
    "    s['t-unsupervised'] = round(tu, 4)\n",
    "    s['p-supervised'] = round(ps, 4)\n",
    "    s['p-unsupervised'] = round(pu, 4)\n",
    "    s['Mean'] = results[results['Metric'] == metric]['Score'].mean()\n",
    "    s['SD'] = results[results['Metric'] == metric]['Score'].std()\n",
    "    s['k-supervised'] = k_common_substring_2['Supervised'][metric]\n",
    "    s['k-unsupervised'] = k_common_substring_2['Unsupervised'][metric]\n",
    "    \n",
    "    stat_sig.append(s)\n",
    "\n",
    "stat_sig = pd.DataFrame(stat_sig).set_index(['Metric'])\n",
    "\n",
    "stat_sig"
   ]
  },
  {
   "cell_type": "code",
   "execution_count": 33,
   "metadata": {},
   "outputs": [
    {
     "name": "stdout",
     "output_type": "stream",
     "text": [
      "String Compression - Compressed DNA Size & 0.967 & 0.982 & 0.950 & 0.966 & 0.935 & 0.983 \\\\\n",
      "String Compression - Compression Ratio & 0.977 & 0.992 & 0.960 & 0.976 & 0.954 & 0.992 \\\\\n"
     ]
    }
   ],
   "source": [
    "print('String Compression - Compressed DNA Size &',\n",
    "      '{:.3f} &'.format(results_with_length['Mean']['Accuracy']),\n",
    "      '{:.3f} &'.format(results_with_length['Mean']['Precision']),\n",
    "      '{:.3f} &'.format(results_with_length['Mean']['Recall']),\n",
    "      '{:.3f} &'.format(results_with_length['Mean']['F1 Score']),\n",
    "      '{:.3f} &'.format(results_with_length['Mean']['MCC']),\n",
    "      '{:.3f} \\\\\\\\'.format(results_with_length['Mean']['Specificity']))\n",
    "\n",
    "print('String Compression - Compression Ratio &',\n",
    "      '{:.3f} &'.format(results_with_ratio['Mean']['Accuracy']),\n",
    "      '{:.3f} &'.format(results_with_ratio['Mean']['Precision']),\n",
    "      '{:.3f} &'.format(results_with_ratio['Mean']['Recall']),\n",
    "      '{:.3f} &'.format(results_with_ratio['Mean']['F1 Score']),\n",
    "      '{:.3f} &'.format(results_with_ratio['Mean']['MCC']),\n",
    "      '{:.3f} \\\\\\\\'.format(results_with_ratio['Mean']['Specificity']))"
   ]
  },
  {
   "cell_type": "markdown",
   "metadata": {},
   "source": [
    "<hr>"
   ]
  },
  {
   "cell_type": "markdown",
   "metadata": {},
   "source": [
    "#### Compression Statistics over the test sets"
   ]
  },
  {
   "cell_type": "code",
   "execution_count": 34,
   "metadata": {},
   "outputs": [],
   "source": [
    "# Filter genuine accounts and bot accounts to compute statistics for each group.\n",
    "g = all_dna['Account Type'] == 'Genuine'\n",
    "b = all_dna['Account Type'] == 'Bot'"
   ]
  },
  {
   "cell_type": "code",
   "execution_count": 35,
   "metadata": {},
   "outputs": [],
   "source": [
    "compression_stats = pd.DataFrame({'Mean Length': [all_dna['dna'].apply(len).mean(), \n",
    "                                                  all_dna[g]['dna'].apply(len).mean(), \n",
    "                                                  all_dna[b]['dna'].apply(len).mean()],\n",
    "                                  'SD Length': [all_dna['dna'].apply(len).std(), \n",
    "                                                all_dna[g]['dna'].apply(len).std(), \n",
    "                                                all_dna[b]['dna'].apply(len).std()],\n",
    "                                  'Mean Uncompressed Size': [all_dna['original_dna_size'].mean(), \n",
    "                                                             all_dna[g]['original_dna_size'].mean(), \n",
    "                                                             all_dna[b]['original_dna_size'].mean()],\n",
    "                                  'SD Uncompressed Size': [all_dna['original_dna_size'].std(), \n",
    "                                                            all_dna[g]['original_dna_size'].std(), \n",
    "                                                           all_dna[b]['original_dna_size'].std()],\n",
    "                                  'Mean Compressed Size': [all_dna['compressed_dna_size'].mean(), \n",
    "                                                           all_dna[g]['compressed_dna_size'].mean(), \n",
    "                                                           all_dna[b]['compressed_dna_size'].mean()],\n",
    "                                  'SD Compressed Size': [all_dna['compressed_dna_size'].std(), \n",
    "                                                         all_dna[g]['compressed_dna_size'].std(), \n",
    "                                                         all_dna[b]['compressed_dna_size'].std()],\n",
    "                                  'Mean Compressio Ratio': [all_dna['compression_ratio'].mean(), \n",
    "                                                            all_dna[g]['compression_ratio'].mean(), \n",
    "                                                            all_dna[b]['compression_ratio'].mean()],\n",
    "                                  'SD Compressio Ratio': [all_dna['compression_ratio'].std(), \n",
    "                                                          all_dna[g]['compression_ratio'].std(), \n",
    "                                                          all_dna[b]['compression_ratio'].std()]},\n",
    "                                 index=['All', 'Genuine', 'Bot'])"
   ]
  },
  {
   "cell_type": "code",
   "execution_count": 36,
   "metadata": {},
   "outputs": [
    {
     "data": {
      "text/html": [
       "<div>\n",
       "<style scoped>\n",
       "    .dataframe tbody tr th:only-of-type {\n",
       "        vertical-align: middle;\n",
       "    }\n",
       "\n",
       "    .dataframe tbody tr th {\n",
       "        vertical-align: top;\n",
       "    }\n",
       "\n",
       "    .dataframe thead th {\n",
       "        text-align: right;\n",
       "    }\n",
       "</style>\n",
       "<table border=\"1\" class=\"dataframe\">\n",
       "  <thead>\n",
       "    <tr style=\"text-align: right;\">\n",
       "      <th></th>\n",
       "      <th>Mean Length</th>\n",
       "      <th>SD Length</th>\n",
       "      <th>Mean Uncompressed Size</th>\n",
       "      <th>SD Uncompressed Size</th>\n",
       "      <th>Mean Compressed Size</th>\n",
       "      <th>SD Compressed Size</th>\n",
       "      <th>Mean Compressio Ratio</th>\n",
       "      <th>SD Compressio Ratio</th>\n",
       "    </tr>\n",
       "  </thead>\n",
       "  <tbody>\n",
       "    <tr>\n",
       "      <th>All</th>\n",
       "      <td>1050.290909</td>\n",
       "      <td>1263.795513</td>\n",
       "      <td>1083.290909</td>\n",
       "      <td>1263.795513</td>\n",
       "      <td>169.296080</td>\n",
       "      <td>237.250147</td>\n",
       "      <td>9.431162</td>\n",
       "      <td>14.057997</td>\n",
       "    </tr>\n",
       "    <tr>\n",
       "      <th>Genuine</th>\n",
       "      <td>2621.755309</td>\n",
       "      <td>1002.075176</td>\n",
       "      <td>2654.755309</td>\n",
       "      <td>1002.075176</td>\n",
       "      <td>612.631579</td>\n",
       "      <td>243.624423</td>\n",
       "      <td>4.432466</td>\n",
       "      <td>2.003222</td>\n",
       "    </tr>\n",
       "    <tr>\n",
       "      <th>Bot</th>\n",
       "      <td>703.813721</td>\n",
       "      <td>1031.262416</td>\n",
       "      <td>736.813721</td>\n",
       "      <td>1031.262416</td>\n",
       "      <td>71.549267</td>\n",
       "      <td>52.191154</td>\n",
       "      <td>10.533277</td>\n",
       "      <td>15.283972</td>\n",
       "    </tr>\n",
       "  </tbody>\n",
       "</table>\n",
       "</div>"
      ],
      "text/plain": [
       "         Mean Length    SD Length  Mean Uncompressed Size  \\\n",
       "All      1050.290909  1263.795513             1083.290909   \n",
       "Genuine  2621.755309  1002.075176             2654.755309   \n",
       "Bot       703.813721  1031.262416              736.813721   \n",
       "\n",
       "         SD Uncompressed Size  Mean Compressed Size  SD Compressed Size  \\\n",
       "All               1263.795513            169.296080          237.250147   \n",
       "Genuine           1002.075176            612.631579          243.624423   \n",
       "Bot               1031.262416             71.549267           52.191154   \n",
       "\n",
       "         Mean Compressio Ratio  SD Compressio Ratio  \n",
       "All                   9.431162            14.057997  \n",
       "Genuine               4.432466             2.003222  \n",
       "Bot                  10.533277            15.283972  "
      ]
     },
     "execution_count": 36,
     "metadata": {},
     "output_type": "execute_result"
    }
   ],
   "source": [
    "compression_stats"
   ]
  },
  {
   "cell_type": "code",
   "execution_count": 37,
   "metadata": {},
   "outputs": [
    {
     "name": "stdout",
     "output_type": "stream",
     "text": [
      "All & 1050.29 &  1263.80 &  1083.29 &  1263.80 &  169.30 &  237.25 &  9.43 &  14.06 \\\\ \n",
      "Genuine & 2621.76 &  1002.08 &  2654.76 &  1002.08 &  612.63 &  243.62 &  4.43 &  2.00 \\\\ \n",
      "Bot & 703.81 &  1031.26 &  736.81 &  1031.26 &  71.55 &  52.19 &  10.53 &  15.28 \\\\ \n"
     ]
    }
   ],
   "source": [
    "print('All &',\n",
    "      '{:.2f} & '.format(compression_stats['Mean Length']['All']),\n",
    "      '{:.2f} & '.format(compression_stats['SD Length']['All']),\n",
    "      '{:.2f} & '.format(compression_stats['Mean Uncompressed Size']['All']),\n",
    "      '{:.2f} & '.format(compression_stats['SD Uncompressed Size']['All']),\n",
    "      '{:.2f} & '.format(compression_stats['Mean Compressed Size']['All']),\n",
    "      '{:.2f} & '.format(compression_stats['SD Compressed Size']['All']),\n",
    "      '{:.2f} & '.format(compression_stats['Mean Compressio Ratio']['All']),\n",
    "      '{:.2f} \\\\\\\\ '.format(compression_stats['SD Compressio Ratio']['All']),\n",
    "     )\n",
    "\n",
    "print('Genuine &',\n",
    "      '{:.2f} & '.format(compression_stats['Mean Length']['Genuine']),\n",
    "      '{:.2f} & '.format(compression_stats['SD Length']['Genuine']),\n",
    "      '{:.2f} & '.format(compression_stats['Mean Uncompressed Size']['Genuine']),\n",
    "      '{:.2f} & '.format(compression_stats['SD Uncompressed Size']['Genuine']),\n",
    "      '{:.2f} & '.format(compression_stats['Mean Compressed Size']['Genuine']),\n",
    "      '{:.2f} & '.format(compression_stats['SD Compressed Size']['Genuine']),\n",
    "      '{:.2f} & '.format(compression_stats['Mean Compressio Ratio']['Genuine']),\n",
    "      '{:.2f} \\\\\\\\ '.format(compression_stats['SD Compressio Ratio']['Genuine']),\n",
    "     )\n",
    "\n",
    "print('Bot &',\n",
    "      '{:.2f} & '.format(compression_stats['Mean Length']['Bot']),\n",
    "      '{:.2f} & '.format(compression_stats['SD Length']['Bot']),\n",
    "      '{:.2f} & '.format(compression_stats['Mean Uncompressed Size']['Bot']),\n",
    "      '{:.2f} & '.format(compression_stats['SD Uncompressed Size']['Bot']),\n",
    "      '{:.2f} & '.format(compression_stats['Mean Compressed Size']['Bot']),\n",
    "      '{:.2f} & '.format(compression_stats['SD Compressed Size']['Bot']),\n",
    "      '{:.2f} & '.format(compression_stats['Mean Compressio Ratio']['Bot']),\n",
    "      '{:.2f} \\\\\\\\ '.format(compression_stats['SD Compressio Ratio']['Bot']),\n",
    "     )"
   ]
  },
  {
   "cell_type": "markdown",
   "metadata": {},
   "source": [
    "#### Histogram of compression ratio"
   ]
  },
  {
   "cell_type": "code",
   "execution_count": 38,
   "metadata": {},
   "outputs": [
    {
     "data": {
      "text/plain": [
       "<seaborn.axisgrid.FacetGrid at 0x1a39e49a58>"
      ]
     },
     "execution_count": 38,
     "metadata": {},
     "output_type": "execute_result"
    },
    {
     "data": {
      "image/png": "[encoded data removed]",
      "text/plain": [
       "<Figure size 433.875x360 with 1 Axes>"
      ]
     },
     "metadata": {},
     "output_type": "display_data"
    }
   ],
   "source": [
    "g = sns.FacetGrid(all_dna, hue='Account Type', palette=pal, height=5)\n",
    "g.set(xlim=(0, 65))\n",
    "g.map(sns.kdeplot, 'compression_ratio')\n",
    "g.add_legend()"
   ]
  },
  {
   "cell_type": "markdown",
   "metadata": {},
   "source": [
    "#### Boxplot of compression ratio"
   ]
  },
  {
   "cell_type": "code",
   "execution_count": 39,
   "metadata": {},
   "outputs": [
    {
     "data": {
      "text/plain": [
       "<matplotlib.axes._subplots.AxesSubplot at 0x1a45c83cf8>"
      ]
     },
     "execution_count": 39,
     "metadata": {},
     "output_type": "execute_result"
    },
    {
     "data": {
      "image/png": "[encoded data removed]",
      "text/plain": [
       "<Figure size 432x288 with 1 Axes>"
      ]
     },
     "metadata": {},
     "output_type": "display_data"
    }
   ],
   "source": [
    "sns.boxplot(data=all_dna, x='Account Type', y='compression_ratio', palette=pal, orient='v')"
   ]
  },
  {
   "cell_type": "markdown",
   "metadata": {},
   "source": [
    "<hr>"
   ]
  },
  {
   "cell_type": "markdown",
   "metadata": {},
   "source": [
    "##### Plot of Uncompressed DNA Size vs. Compressed DNA Size.\n",
    "\n",
    "Includes the following accounts:\n",
    "1. Genuine users\n",
    "1. Social Spambots \\#1\n",
    "1. Social Spambots \\#3"
   ]
  },
  {
   "cell_type": "code",
   "execution_count": 40,
   "metadata": {},
   "outputs": [
    {
     "data": {
      "image/png": "[encoded data removed]",
      "text/plain": [
       "<Figure size 432x432 with 1 Axes>"
      ]
     },
     "metadata": {},
     "output_type": "display_data"
    }
   ],
   "source": [
    "dna_all = pd.concat([dna_test1, dna_test2]).rename({'label': 'Account Type'}, axis=1)\n",
    "dna_all['Account Type'] = np.where(dna_all['Account Type'] == 0, 'Genuine User', 'Bot Account')\n",
    "\n",
    "sns.set(style='white', font='Source Sans Pro')\n",
    "\n",
    "pal = {\n",
    "    'Genuine User': sns.color_palette('Dark2')[0],\n",
    "    'Bot Account':  sns.color_palette('Dark2')[1]\n",
    "}\n",
    "\n",
    "g = sns.FacetGrid(dna_all, hue='Account Type', \n",
    "                  palette=pal, height=6, hue_kws=dict(marker=[\"^\", \".\"]))\n",
    "g.map(plt.scatter, \"original_dna_size\", \"compressed_dna_size\", s=100, alpha=0.85, edgecolor=\"white\")\n",
    "# g.add_legend()\n",
    "plt.legend(loc='upper left', frameon=False)\n",
    "g.set_axis_labels('Original DNA Size', 'Compressed DNA Size')\n",
    "g.savefig('dna-scatter-1.pdf')"
   ]
  },
  {
   "cell_type": "markdown",
   "metadata": {},
   "source": [
    "##### Plot of DNA Size vs. Compression Ratio.\n",
    "\n",
    "Includes the following accounts:\n",
    "1. Genuine users\n",
    "1. Social Spambots \\#1\n",
    "1. Social Spambots \\#3"
   ]
  },
  {
   "cell_type": "code",
   "execution_count": 41,
   "metadata": {},
   "outputs": [
    {
     "data": {
      "image/png": "[encoded data removed]",
      "text/plain": [
       "<Figure size 432x432 with 1 Axes>"
      ]
     },
     "metadata": {},
     "output_type": "display_data"
    }
   ],
   "source": [
    "dna_all = pd.concat([dna_test1, dna_test2]).rename({'label': 'Account Type'}, axis=1)\n",
    "dna_all['Account Type'] = np.where(dna_all['Account Type'] == 0, 'Genuine User', 'Bot Account')\n",
    "\n",
    "sns.set(style='white', font='Source Sans Pro')\n",
    "\n",
    "pal = {\n",
    "    'Genuine User': sns.color_palette('Dark2')[0],\n",
    "    'Bot Account':  sns.color_palette('Dark2')[1]\n",
    "}\n",
    "\n",
    "g = sns.FacetGrid(dna_all, hue='Account Type', \n",
    "                  palette=pal, height=6, hue_kws=dict(marker=[\"^\", \".\"]))\n",
    "g.map(plt.scatter, \"original_dna_size\", \"compression_ratio\", s=100, alpha=0.85, edgecolor=\"white\")\n",
    "# g.add_legend()\n",
    "plt.legend(loc='upper left', frameon=False)\n",
    "g.set_axis_labels('Original DNA Size', 'Compression Ratio')\n",
    "g.savefig('dna-scatter-2.pdf')"
   ]
  },
  {
   "cell_type": "markdown",
   "metadata": {},
   "source": [
    "<hr>"
   ]
  },
  {
   "cell_type": "code",
   "execution_count": 42,
   "metadata": {},
   "outputs": [],
   "source": [
    "# markers = {'Genuine': '^', 'Bot': '+'}\n",
    "\n",
    "# ax = sns.scatterplot(data=dna_all, x='original_dna_size', y='compressed_dna_size', s=50,\n",
    "#                 hue='Account Type', palette=pal, style='Account Type', alpha=0.7)\n",
    "\n",
    "# ax.set_xlabel('Original DNA Size')\n",
    "# ax.set_ylabel('Compressed DNA Size')"
   ]
  }
 ],
 "metadata": {
  "kernelspec": {
   "display_name": "Python 3",
   "language": "python",
   "name": "python3"
  },
  "language_info": {
   "codemirror_mode": {
    "name": "ipython",
    "version": 3
   },
   "file_extension": ".py",
   "mimetype": "text/x-python",
   "name": "python",
   "nbconvert_exporter": "python",
   "pygments_lexer": "ipython3",
   "version": "3.6.5"
  }
 },
 "nbformat": 4,
 "nbformat_minor": 2
}
